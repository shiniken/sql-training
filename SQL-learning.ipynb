{
 "cells": [
  {
   "cell_type": "markdown",
   "metadata": {},
   "source": [
    "## **WINDOW FUNCTIONS**"
   ]
  },
  {
   "cell_type": "markdown",
   "metadata": {},
   "source": [
    "*Window functions perform calculations across a set of rows related to the current row, allowing for complex analytics without collapsing rows into a single output. They provide capabilities for running totals, averages, and other aggregations while maintaining individual row details.*\n",
    "- Operate on a \"window\" of rows with a relationship to the current row.\n",
    "- Keep the row's context, unlike aggregate functions that group into single rows."
   ]
  },
  {
   "cell_type": "markdown",
   "metadata": {},
   "source": [
    "### **COMMON TABLE EXPRESSIONS (CTE)** <br> \n",
    "*Provides a temporary result set that you can reference within a SELECT, INSERT, UPDATE, or DELETE statement. CTEs can make your queries more readable and modular. They are particularly useful for breaking down complex queries into simpler parts.*<br> <br>\n",
    "\n",
    "CTEs are defined with the WITH clause. They allow you to name and parameterize a subquery, making your SQL scripts more organized and easier to understand. CTEs can be recursive, allowing them to reference themselves, which is useful for hierarchical data querying like organizational charts or category trees."
   ]
  },
  {
   "cell_type": "code",
   "execution_count": null,
   "metadata": {
    "vscode": {
     "languageId": "sql"
    }
   },
   "outputs": [],
   "source": [
    "-- BASIC SYNTAX FOR CTEs\n",
    "WITH\n",
    "    CTE_Name AS (\n",
    "        -- CTE query here\n",
    "    )\n",
    "SELECT\n",
    "    *\n",
    "FROM\n",
    "    CTE_Name;"
   ]
  },
  {
   "cell_type": "markdown",
   "metadata": {},
   "source": [
    "**EXAMPLE**<br>\n",
    "Consider a scenario where you have a table named sales with columns for sale_id, sale_date, employee_id, amount, and you want to perform multiple analyses on this data. <br><br>\n",
    "Let's say you want to:\n",
    "1. Calculate the total sales for each employee.<br>\n",
    "2. From those totals, identify employees who achieved sales above a certain threshold in a specific time frame.\n",
    "\n",
    "Using CTEs, you can break this task into more manageable parts."
   ]
  },
  {
   "cell_type": "code",
   "execution_count": null,
   "metadata": {
    "vscode": {
     "languageId": "sql"
    }
   },
   "outputs": [],
   "source": [
    "WITH\n",
    "    TotalSales AS (\n",
    "        SELECT\n",
    "            employee_id,\n",
    "            SUM(amount) AS total_sales\n",
    "        FROM\n",
    "            sales\n",
    "        WHERE\n",
    "            sale_date BETWEEN '2023-01-01' AND '2023-12-31'\n",
    "        GROUP BY\n",
    "            employee_id\n",
    "    ),\n",
    "    HighPerformers AS (\n",
    "        SELECT\n",
    "            employee_id\n",
    "        FROM\n",
    "            TotalSales\n",
    "        WHERE\n",
    "            total_sales > 10000\n",
    "    )\n",
    "SELECT\n",
    "    s.employee_id,\n",
    "    s.sale_id,\n",
    "    s.sale_date,\n",
    "    s.amount\n",
    "FROM\n",
    "    sales s\n",
    "    JOIN HighPerformers hp ON s.employee_id = hp.employee_id\n",
    "WHERE\n",
    "    s.sale_date BETWEEN '2023-01-01' AND '2023-12-31';"
   ]
  },
  {
   "cell_type": "markdown",
   "metadata": {},
   "source": [
    "**TotalSales CTE:** Calculates the total sales for each employee within the specified date range. <br><br>\n",
    "**HighPerformers CTE:** Identifies employees whose total sales exceed the 10,000 threshold. <br><br>\n",
    "**Final SELECT:** Retrieves detailed sales data for the high performers identified by the CTEs."
   ]
  },
  {
   "cell_type": "markdown",
   "metadata": {},
   "source": [
    "### **OVER CLAUSE** <br>\n",
    " *The OVER() clause is a fundamental aspect of SQL that enables the use of window functions to perform calculations across sets of rows relative to the current row. It defines how records are partitioned and ordered before the window function is applied, allowing for sophisticated data analysis without collapsing the dataset.* <br> <br>\n",
    "**Key Components of the OVER() Clause:**\n",
    "- **Partitioning:** The PARTITION BY component divides the result set into partitions where the window function operates independently.\n",
    "- **Ordering:** The ORDER BY component specifies the order of rows within each partition.\n",
    "- **Frame Specification:** Defines the subset of rows within the partition to which the function is applied.\n",
    "\n",
    "**Related Window Functions:**\n",
    "- **Aggregation Functions:** SUM(), AVG(), COUNT(), etc., can be used with OVER() to perform partition-wise aggregations.\n",
    "- **Ranking Functions:** ROW_NUMBER(), RANK(), DENSE_RANK(), and NTILE(), provide ranking capabilities within partitions.\n",
    "- **Analytical Functions:** LEAD(), LAG(), FIRST_VALUE(), and LAST_VALUE(), for accessing data from different parts of the partition.\n",
    "\n",
    "**EXAMPLE**<br>\n",
    "Calculate the cumulative sales within each sales region while also determining the rank of each sale by amount within the same region."
   ]
  },
  {
   "cell_type": "code",
   "execution_count": null,
   "metadata": {
    "vscode": {
     "languageId": "sql"
    }
   },
   "outputs": [],
   "source": [
    "SELECT\n",
    "    sales_region,\n",
    "    sale_date,\n",
    "    amount,\n",
    "    SUM(amount) OVER (\n",
    "        PARTITION BY\n",
    "            sales_region\n",
    "        ORDER BY\n",
    "            sale_date\n",
    "    ) AS cumulative_sales,\n",
    "    RANK() OVER (\n",
    "        PARTITION BY\n",
    "            sales_region\n",
    "        ORDER BY\n",
    "            amount DESC\n",
    "    ) AS sales_rank\n",
    "FROM\n",
    "    sales_data;"
   ]
  },
  {
   "cell_type": "markdown",
   "metadata": {},
   "source": [
    "**How the OVER() Clause Operates:**\n",
    "- **Partitioning:** Data is first partitioned by sales_region, treating each region as a separate subset for calculations.\n",
    "- **Ordering:** Within each partition, rows are ordered by sale_date for cumulative sales and by amount for ranking.\n",
    "- **Calculations:** For each row, cumulative sales are calculated up to the current sale_date, and a rank is assigned based on amount."
   ]
  },
  {
   "cell_type": "markdown",
   "metadata": {},
   "source": [
    "### **PARTITIONS** <br>\n",
    "*Partitioning in the context of window functions refers to dividing the result set into partitions or groups based on one or more columns. **Each partition is treated as a separate group for the calculation of the window function.** This approach enables you to perform complex analytical operations, like ranking or aggregating, within each partition independently, without collapsing the rows into a single output row as GROUP BY does.*<br>\n",
    "- **Table Partitioning:** Splits tables into parts based on key columns, making large tables more manageable and queries faster.\n",
    "- **Index Partitioning:** Works similarly, dividing indexes for quicker access.\n",
    "- **Partition Strategies:** Range, list, and hash partitioning are common strategies, chosen based on how the data is accessed.\n",
    "\n",
    "**EXAMPLE**<br>\n",
    "Partitioning the sales_data table by sales_region to improve query performance on regional reports:"
   ]
  },
  {
   "cell_type": "code",
   "execution_count": null,
   "metadata": {
    "vscode": {
     "languageId": "sql"
    }
   },
   "outputs": [],
   "source": [
    "CREATE TABLE\n",
    "    sales_data (\n",
    "        sale_id INT,\n",
    "        sale_date DATE,\n",
    "        sales_region VARCHAR(50),\n",
    "        amount DECIMAL(10, 2)\n",
    "    )\n",
    "PARTITION BY\n",
    "    LIST (sales_region) (\n",
    "        PARTITION p_north\n",
    "        VALUES\n",
    "            IN ('North'),\n",
    "            PARTITION p_south\n",
    "        VALUES\n",
    "            IN ('South'),\n",
    "            PARTITION p_east\n",
    "        VALUES\n",
    "            IN ('East'),\n",
    "            PARTITION p_west\n",
    "        VALUES\n",
    "            IN ('West')\n",
    "    );"
   ]
  },
  {
   "cell_type": "markdown",
   "metadata": {},
   "source": [
    "**EXAMPLE**<br>\n",
    "Consider a table sales_data with columns for sales_region, sale_date, and amount. To rank sales within each region by the sale amount in descending order, you can use the RANK() window function with partitioning."
   ]
  },
  {
   "cell_type": "code",
   "execution_count": null,
   "metadata": {
    "vscode": {
     "languageId": "sql"
    }
   },
   "outputs": [],
   "source": [
    "SELECT\n",
    "    sales_region,\n",
    "    sale_date,\n",
    "    amount,\n",
    "    RANK() OVER (\n",
    "        PARTITION BY\n",
    "            sales_region\n",
    "        ORDER BY\n",
    "            amount DESC\n",
    "    ) AS rank\n",
    "FROM\n",
    "    sales_data;"
   ]
  },
  {
   "cell_type": "markdown",
   "metadata": {},
   "source": [
    "**Conceptual breakdown:**\n",
    "- **Partitioning:** The data is divided into partitions based on sales_region. Each sales_region acts as a separate subset of data.\n",
    "- **Ordering:** Within each partition, rows are ordered by amount in descending order.\n",
    "- **Calculation:** The RANK() function is applied to each row within its partition, assigning a rank based on the amount. Sales with the highest amounts receive the lowest ranks (i.e., rank 1).\n",
    "- **Independence:** Calculations are done independently for each partition. The rank starts anew for each sales_region, allowing for comparison within regions."
   ]
  },
  {
   "cell_type": "markdown",
   "metadata": {},
   "source": [
    "### **ROW_NUMBER()** <br>\n",
    "*Generates a unique number for each row to which the window function is applied, based on the order specified in the ORDER BY clause of the window function.*<br> <br>\n",
    "**EXAMPLE**<br>\n",
    "Suppose you have a table sales_data with columns for transaction_id, customer_id, purchase_date, and amount. You want to assign a sequential integer to each sale made by a customer, ordered by the date of the purchase."
   ]
  },
  {
   "cell_type": "code",
   "execution_count": null,
   "metadata": {
    "vscode": {
     "languageId": "sql"
    }
   },
   "outputs": [],
   "source": [
    "SELECT\n",
    "    customer_id,\n",
    "    purchase_date,\n",
    "    amount,\n",
    "    ROW_NUMBER() OVER (\n",
    "        PARTITION BY\n",
    "            customer_id\n",
    "        ORDER BY\n",
    "            purchase_date ASC\n",
    "    ) AS sale_sequence\n",
    "FROM\n",
    "    sales_data;"
   ]
  },
  {
   "cell_type": "markdown",
   "metadata": {},
   "source": [
    "### **RANK()** <br>\n",
    "*Assigns a rank to each row within a partition of a result set, with gaps in the ranking sequence when there are ties.*<br> <br>\n",
    "**EXAMPLE**<br>\n",
    "In the sales_data table, you want to rank the sales for each customer based on the transaction amount, with higher amounts receiving a higher rank."
   ]
  },
  {
   "cell_type": "code",
   "execution_count": null,
   "metadata": {
    "vscode": {
     "languageId": "sql"
    }
   },
   "outputs": [],
   "source": [
    "SELECT\n",
    "    customer_id,\n",
    "    purchase_date,\n",
    "    amount,\n",
    "    RANK() OVER (\n",
    "        PARTITION BY\n",
    "            customer_id\n",
    "        ORDER BY\n",
    "            amount DESC\n",
    "    ) AS rank\n",
    "FROM\n",
    "    sales_data;"
   ]
  },
  {
   "cell_type": "markdown",
   "metadata": {},
   "source": [
    "### **DENSE_RANK()** <br>\n",
    "*Similar to RANK(), but without gaps in the rank values when there are ties.*<br> <br>\n",
    "**EXAMPLE**<br>\n",
    "If you use DENSE_RANK() in the same scenario as RANK(), each sale will receive a rank without gaps, ensuring a continuous ranking sequence even in the case of tie amounts."
   ]
  },
  {
   "cell_type": "code",
   "execution_count": null,
   "metadata": {
    "vscode": {
     "languageId": "sql"
    }
   },
   "outputs": [],
   "source": [
    "SELECT\n",
    "    customer_id,\n",
    "    purchase_date,\n",
    "    amount,\n",
    "    DENSE_RANK() OVER (\n",
    "        PARTITION BY\n",
    "            customer_id\n",
    "        ORDER BY\n",
    "            amount DESC\n",
    "    ) AS dense_rank\n",
    "FROM\n",
    "    sales_data;"
   ]
  },
  {
   "cell_type": "markdown",
   "metadata": {},
   "source": [
    "### **NTILE()** <br>\n",
    "*Distributes the rows in an ordered partition into a specified number of groups and assigns a group number to each row.*<br> <br>\n",
    "**EXAMPLE**<br>\n",
    "You want to divide the sales for each customer into quartiles based on the transaction amount."
   ]
  },
  {
   "cell_type": "code",
   "execution_count": null,
   "metadata": {
    "vscode": {
     "languageId": "sql"
    }
   },
   "outputs": [],
   "source": [
    "SELECT\n",
    "    customer_id,\n",
    "    purchase_date,\n",
    "    amount,\n",
    "    NTILE (4) OVER (\n",
    "        PARTITION BY\n",
    "            customer_id\n",
    "        ORDER BY\n",
    "            amount DESC\n",
    "    ) AS quartile\n",
    "FROM\n",
    "    sales_data;"
   ]
  },
  {
   "cell_type": "markdown",
   "metadata": {},
   "source": [
    "### **LEAD()** <br>\n",
    "*Accesses data from a subsequent row in the same result set without the use of a self-join.*<br> <br>\n",
    "**EXAMPLE**<br>\n",
    "You want to compare each sale to the next sale made by the same customer in terms of the amount to see if the purchase amount is increasing or decreasing."
   ]
  },
  {
   "cell_type": "code",
   "execution_count": null,
   "metadata": {
    "vscode": {
     "languageId": "sql"
    }
   },
   "outputs": [],
   "source": [
    "SELECT\n",
    "    customer_id,\n",
    "    purchase_date,\n",
    "    amount,\n",
    "    LEAD (amount) OVER (\n",
    "        PARTITION BY\n",
    "            customer_id\n",
    "        ORDER BY\n",
    "            purchase_date\n",
    "    ) AS next_sale_amount\n",
    "FROM\n",
    "    sales_data;"
   ]
  },
  {
   "cell_type": "markdown",
   "metadata": {},
   "source": [
    "### **LAG()** <br>\n",
    "*Accesses data from a previous row in the same result set without the use of a self-join.*<br> <br>\n",
    "**EXAMPLE**<br>\n",
    "You're interested in seeing how the current sale's amount compares to the previous sale's amount for the same customer."
   ]
  },
  {
   "cell_type": "code",
   "execution_count": null,
   "metadata": {
    "vscode": {
     "languageId": "sql"
    }
   },
   "outputs": [],
   "source": [
    "SELECT\n",
    "    customer_id,\n",
    "    purchase_date,\n",
    "    amount,\n",
    "    LAG (amount) OVER (\n",
    "        PARTITION BY\n",
    "            customer_id\n",
    "        ORDER BY\n",
    "            purchase_date\n",
    "    ) AS prev_sale_amount\n",
    "FROM\n",
    "    sales_data;"
   ]
  },
  {
   "cell_type": "markdown",
   "metadata": {},
   "source": [
    "### **FIRST_VALUE()** <br>\n",
    "*Returns the first value in an ordered set of values in the window frame.*<br> <br>\n",
    "**EXAMPLE**<br>\n",
    "You want to compare each transaction's amount against the first transaction amount for each customer to evaluate growth or decline over time."
   ]
  },
  {
   "cell_type": "code",
   "execution_count": null,
   "metadata": {
    "vscode": {
     "languageId": "sql"
    }
   },
   "outputs": [],
   "source": [
    "SELECT\n",
    "    customer_id,\n",
    "    purchase_date,\n",
    "    amount,\n",
    "    FIRST_VALUE (amount) OVER (\n",
    "        PARTITION BY\n",
    "            customer_id\n",
    "        ORDER BY\n",
    "            purchase_date\n",
    "    ) AS first_sale_amount\n",
    "FROM\n",
    "    sales_data;"
   ]
  },
  {
   "cell_type": "markdown",
   "metadata": {},
   "source": [
    "### **RECURSIVE COMMON TABLE EXPRESSIONS (CTE)** <br>\n",
    "*Recursive CTEs are a powerful feature in SQL that allow for the execution of complex queries, such as hierarchical data retrieval, graph traversal, and generating sequences. They extend the functionality of standard CTEs by allowing a CTE to reference itself.*<br><br>\n",
    "**Key Concepts:**\n",
    "- **Base Case:** The initial query that returns the CTE's starting point.\n",
    "- **Recursive Case:** The part of the CTE that references itself to perform iterative calculations or traversals.\n",
    "\n",
    "**EXAMPLE**<br>\n",
    "To retrieve a hierarchical list of employees and their managers from an employees table with employee_id and manager_id columns:"
   ]
  },
  {
   "cell_type": "code",
   "execution_count": null,
   "metadata": {
    "vscode": {
     "languageId": "sql"
    }
   },
   "outputs": [],
   "source": [
    "WITH RECURSIVE\n",
    "    EmployeeHierarchy AS (\n",
    "        SELECT\n",
    "            employee_id,\n",
    "            manager_id,\n",
    "            1 AS depth\n",
    "        FROM\n",
    "            employees\n",
    "        WHERE\n",
    "            manager_id IS NULL\n",
    "        UNION ALL\n",
    "        SELECT\n",
    "            e.employee_id,\n",
    "            e.manager_id,\n",
    "            eh.depth + 1\n",
    "        FROM\n",
    "            employees e\n",
    "            INNER JOIN EmployeeHierarchy eh ON e.manager_id = eh.employee_id\n",
    "    )\n",
    "SELECT\n",
    "    *\n",
    "FROM\n",
    "    EmployeeHierarchy;"
   ]
  },
  {
   "cell_type": "markdown",
   "metadata": {},
   "source": [
    "Recursive CTEs efficiently handle tasks requiring iteration over rows, such as building hierarchies, without the need for procedural code, simplifying complex SQL queries and enhancing data analysis capabilities."
   ]
  },
  {
   "cell_type": "markdown",
   "metadata": {},
   "source": [
    "## **COMPLEX JOINS & SUB-QUERIES** <br>"
   ]
  },
  {
   "cell_type": "markdown",
   "metadata": {},
   "source": [
    "### **SUB-QUERIES** <br>\n",
    "Sub-queries, also known as inner queries or nested queries, are SQL queries placed inside another SQL query. They provide a way to break down complex queries into simpler parts, allowing you to isolate specific operations or calculations. Sub-queries can be used in various clauses of an SQL statement, including SELECT, FROM, WHERE, and HAVING.<br><br>\n",
    "They can be classified based on their position within the main query: <br><br>\n",
    "**Scalar** sub-queries (return a single value)<br>\n",
    "**Row** sub-queries (return a single row)<br>\n",
    "**Column** sub-queries (return a single column)<br>\n",
    "**Table** sub-queries (return multiple rows and columns)."
   ]
  },
  {
   "cell_type": "code",
   "execution_count": null,
   "metadata": {
    "vscode": {
     "languageId": "sql"
    }
   },
   "outputs": [],
   "source": [
    "-- BASIC SYNTAX FOR SUB-QUERIES\n",
    "SELECT\n",
    "    column_names\n",
    "FROM\n",
    "    table_name\n",
    "WHERE\n",
    "    column_name OPERATOR (\n",
    "        SELECT\n",
    "            column_name\n",
    "        FROM\n",
    "            table_name\n",
    "        WHERE\n",
    "            condition\n",
    "    );"
   ]
  },
  {
   "cell_type": "markdown",
   "metadata": {},
   "source": [
    "**EXAMPLE**<br>\n",
    "Imagine you have the same sales table with columns for sale_id, sale_date, employee_id, and amount. You are tasked with identifying sales transactions that are above the average sales amount. You can achieve this by using a sub-query to first calculate the average sales amount and then use it in the WHERE clause of the main query to filter out the sales transactions."
   ]
  },
  {
   "cell_type": "code",
   "execution_count": null,
   "metadata": {
    "vscode": {
     "languageId": "sql"
    }
   },
   "outputs": [],
   "source": [
    "SELECT\n",
    "    sale_id,\n",
    "    sale_date,\n",
    "    employee_id,\n",
    "    amount\n",
    "FROM\n",
    "    sales\n",
    "WHERE\n",
    "    amount > (\n",
    "        SELECT\n",
    "            AVG(amount)\n",
    "        FROM\n",
    "            sales\n",
    "    );"
   ]
  },
  {
   "cell_type": "markdown",
   "metadata": {},
   "source": [
    "The sub-query (SELECT AVG(amount) FROM sales) calculates the average amount of all sales.<br>\n",
    "The main query then selects all sales that have an amount greater than this average."
   ]
  },
  {
   "cell_type": "markdown",
   "metadata": {},
   "source": [
    "### **COMPLEX JOINS**<br>\n",
    "**Advanced Join Techniques:**\n",
    "- **Self-Joins:** Join a table to itself to compare rows within the same table.\n",
    "- **Non-Equi Joins:** Use conditions other than equality in a JOIN clause, often with comparative operators (<, >, !=).\n",
    "\n",
    "**SELF-JOIN EXAMPLE**<br>\n",
    "Find pairs of employees who work in the same department."
   ]
  },
  {
   "cell_type": "code",
   "execution_count": null,
   "metadata": {
    "vscode": {
     "languageId": "sql"
    }
   },
   "outputs": [],
   "source": [
    "SELECT\n",
    "    A.employee_name AS Employee1,\n",
    "    B.employee_name AS Employee2,\n",
    "    A.department\n",
    "FROM\n",
    "    employees A,\n",
    "    employees B\n",
    "WHERE\n",
    "    A.department = B.department\n",
    "    AND A.employee_id != B.employee_id;"
   ]
  },
  {
   "cell_type": "markdown",
   "metadata": {},
   "source": [
    "**NON-EQUI-JOIN EXAMPLE**<br>\n",
    "Assign mentors to employees based on experience, where mentors have more experience than their mentees."
   ]
  },
  {
   "cell_type": "code",
   "execution_count": null,
   "metadata": {
    "vscode": {
     "languageId": "sql"
    }
   },
   "outputs": [],
   "source": [
    "SELECT\n",
    "    mentee.name AS Mentee,\n",
    "    mentor.name AS Mentor\n",
    "FROM\n",
    "    employees mentee\n",
    "    JOIN employees mentor ON mentee.experience_years < mentor.experience_years;"
   ]
  },
  {
   "cell_type": "markdown",
   "metadata": {},
   "source": [
    "## **DATA TYPE CONVERSION + CASTING** <br>"
   ]
  },
  {
   "cell_type": "markdown",
   "metadata": {},
   "source": [
    "Data type conversion and casting are pivotal in SQL for transforming data from one type to another, ensuring compatibility between different parts of a query or when performing operations on columns with differing data types. This process can be explicit, where you manually specify the type conversion using functions or keywords, or implicit, where the database management system automatically converts data types as needed.<br><br>\n",
    "**CAST():** Converts a value from one data type to another specified by the user.<br>\n",
    "**CONVERT():** Similar to CAST(), but specific to certain SQL dialects (e.g., T-SQL for SQL Server) and may offer more flexibility in some cases.<br>\n",
    "**Implicit Conversion:** Automatic conversion performed by the SQL engine, depending on the context of the operation<br>"
   ]
  },
  {
   "cell_type": "code",
   "execution_count": null,
   "metadata": {
    "vscode": {
     "languageId": "sql"
    }
   },
   "outputs": [],
   "source": [
    "-- BASIC SYNTAX FOR CAST\n",
    "CAST(expression AS data_type)\n",
    "\n",
    "-- BASIC SYNTAX FOR CONVERT\n",
    "CONVERT(data_type, expression, style)"
   ]
  },
  {
   "cell_type": "markdown",
   "metadata": {},
   "source": [
    "**EXAMPLE**<br>\n",
    "Consider a table named sales_log with columns sale_id (integer), sale_date (date), employee_id (integer), and sale_amount (varchar). You need to sum the sale_amount for a report, but sale_amount is stored as a text type instead of a numeric type.<BR><BR>\n",
    "**Using CAST() to Convert Data Types:**\n",
    "To perform a sum operation on the sale_amount column, you first need to cast the varchar data to a numeric type."
   ]
  },
  {
   "cell_type": "code",
   "execution_count": null,
   "metadata": {
    "vscode": {
     "languageId": "sql"
    }
   },
   "outputs": [],
   "source": [
    "SELECT\n",
    "    SUM(CAST(sale_amount AS DECIMAL(10, 2))) AS total_sales\n",
    "FROM\n",
    "    sales_log;"
   ]
  },
  {
   "cell_type": "markdown",
   "metadata": {},
   "source": [
    "**Using CONVERT() for Date Formatting:** Assuming you want to display the sale_date in a specific format, such as 'YYYY-MM-DD'."
   ]
  },
  {
   "cell_type": "code",
   "execution_count": null,
   "metadata": {
    "vscode": {
     "languageId": "sql"
    }
   },
   "outputs": [],
   "source": [
    "SELECT\n",
    "    sale_id,\n",
    "    CONVERT(varchar, sale_date, 23) AS formatted_sale_date,\n",
    "    employee_id,\n",
    "    sale_amount\n",
    "FROM\n",
    "    sales_log;"
   ]
  },
  {
   "cell_type": "markdown",
   "metadata": {},
   "source": [
    "**General Type Conversion:** CAST() is perfectly suited for general-purpose type conversion when no additional formatting is required. It's your go-to for ensuring compatibility across database systems due to its adherence to the SQL standard.<br><br>\n",
    "**Specific Formatting Needs:** CONVERT() is preferable when working with data that requires specific formatting, particularly date and time data, and when working within database systems that support the CONVERT() function with its additional capabilities."
   ]
  },
  {
   "cell_type": "markdown",
   "metadata": {},
   "source": [
    "## **CONDITIONAL LOGIC** <br> "
   ]
  },
  {
   "cell_type": "markdown",
   "metadata": {},
   "source": [
    "Conditional logic in SQL allows for decision-making processes within queries, enabling dynamic results based on specific conditions.<br><br>\n",
    "**Key Functions and Statements:**\n",
    "- **CASE:** The most versatile conditional logic statement, allowing for multiple conditions and results.\n",
    "- **IF():** Available in some SQL dialects like MySQL, it evaluates a condition and returns a value if the condition is true, and another if false.\n",
    "- **IIF():** A shorthand form of CASE available in SQL Server, evaluates a condition, returning one value if true, and another if false.\n",
    "- **COALESCE:** Returns the first non-null value in a list of arguments. It's useful for handling null values in data analysis."
   ]
  },
  {
   "cell_type": "code",
   "execution_count": null,
   "metadata": {
    "vscode": {
     "languageId": "sql"
    }
   },
   "outputs": [],
   "source": [
    "-- BASIC SYNTAX FOR CASE STATEMENTS\n",
    "CASE\n",
    "    WHEN condition1 THEN result1\n",
    "    WHEN condition2 THEN result2\n",
    "    ELSE default_result\n",
    "END"
   ]
  },
  {
   "cell_type": "markdown",
   "metadata": {},
   "source": [
    "**EXAMPLE**<br>\n",
    "Suppose you have a table customers with columns customer_id, name, and total_purchases. You want to categorize customers based on their total_purchases into 'Low', 'Medium', and 'High' segments."
   ]
  },
  {
   "cell_type": "code",
   "execution_count": null,
   "metadata": {
    "vscode": {
     "languageId": "sql"
    }
   },
   "outputs": [],
   "source": [
    "SELECT customer_id, name, total_purchases,\n",
    "       CASE\n",
    "           WHEN total_purchases < 100 THEN 'Low'\n",
    "           WHEN total_purchases BETWEEN 100 AND 500 THEN 'Medium'\n",
    "           ELSE 'High'\n",
    "       END AS purchase_segment\n",
    "FROM customers;"
   ]
  },
  {
   "cell_type": "markdown",
   "metadata": {},
   "source": [
    "Customers with total_purchases less than 100 are categorized as 'Low'.<br>\n",
    "Those with purchases between 100 and 500 are 'Medium'.<br>\n",
    "All other customers are categorized as 'High'.<br>"
   ]
  },
  {
   "cell_type": "markdown",
   "metadata": {},
   "source": [
    "## **STRING FUNCTIONS** <br>"
   ]
  },
  {
   "cell_type": "markdown",
   "metadata": {},
   "source": [
    "**Commonly Used String Functions:**\n",
    "- **CONCAT():** Combines two or more strings into one.\n",
    "- **LENGTH():** Returns the length of a string.\n",
    "- **SUBSTRING():** Extracts a substring from a string.\n",
    "- **UPPER(), LOWER():** Converts a string to uppercase or lowercase.\n",
    "- **TRIM():** Removes spaces from the beginning and end of a string.\n",
    "- **REPLACE():** Replaces occurrences of a specified substring within a string with another substring.\n",
    "\n",
    "**EXAMPLE**<br>\n",
    "Given a table customers with a column full_name, you want to standardize the format by trimming leading/trailing spaces, converting names to lowercase, and then capitalizing the first letter of each name."
   ]
  },
  {
   "cell_type": "code",
   "execution_count": null,
   "metadata": {
    "vscode": {
     "languageId": "sql"
    }
   },
   "outputs": [],
   "source": [
    "SELECT\n",
    "    CONCAT (\n",
    "        UPPER(SUBSTRING(TRIM(lower(full_name)), 1, 1)),\n",
    "        SUBSTRING(TRIM(lower(full_name)), 2)\n",
    "    ) AS formatted_name\n",
    "FROM\n",
    "    customers;"
   ]
  },
  {
   "cell_type": "markdown",
   "metadata": {},
   "source": [
    "## **DATE + TIME FUNCTIONS** <br>"
   ]
  },
  {
   "cell_type": "markdown",
   "metadata": {},
   "source": [
    "Date and time functions in SQL handle temporal data, allowing for the manipulation, extraction, and calculation of dates and times. These functions are crucial for querying based on time intervals, formatting date/time values, and performing time-based calculations.<br><br>\n",
    "**Key Date and Time Functions:**\n",
    "- **NOW(), SYSDATE:** Returns the current date and time.\n",
    "- **CURDATE(), CURRENT_DATE():** Return the current date.\n",
    "- **CURTIME(), CURRENT_TIME():** Return the current time.\n",
    "- **DATE():** Extracts the date part from a datetime expression.\n",
    "- **TIME():** Extracts the time part from a datetime expression.\n",
    "- **DATEDIFF():** Calculates the difference between two dates.\n",
    "- **DATE_ADD(), DATE_SUB():** Add or subtract a specified time interval from a date.\n",
    "- **TRUNC():** Truncates a date or number to a specified unit or number of decimal places. In the context of dates, it can reset the time part of a datetime value to midnight or adjust the date to the start of the period specified (e.g., the first day of the month or year).\n",
    "\n",
    "**EXAMPLE**<br>\n",
    "For a table subscriptions with start_date and end_date, calculate the duration of each subscription in days."
   ]
  },
  {
   "cell_type": "code",
   "execution_count": null,
   "metadata": {
    "vscode": {
     "languageId": "sql"
    }
   },
   "outputs": [],
   "source": [
    "SELECT\n",
    "    DATEDIFF (end_date, start_date) AS duration_days\n",
    "FROM\n",
    "    subscriptions;"
   ]
  },
  {
   "cell_type": "markdown",
   "metadata": {},
   "source": [
    "*For Oracle*, using **SYSDATE** to find records created today:"
   ]
  },
  {
   "cell_type": "code",
   "execution_count": null,
   "metadata": {
    "vscode": {
     "languageId": "sql"
    }
   },
   "outputs": [],
   "source": [
    "SELECT\n",
    "    *\n",
    "FROM\n",
    "    your_table\n",
    "WHERE\n",
    "    your_date_column >= TRUNC (SYSDATE)\n",
    "    AND your_date_column < TRUNC (SYSDATE) + 1;"
   ]
  },
  {
   "cell_type": "markdown",
   "metadata": {},
   "source": [
    "## **AGGREGATION METHODS** <br>"
   ]
  },
  {
   "cell_type": "markdown",
   "metadata": {},
   "source": [
    "### **BASIC AGGREGATION METHODS** <br>\n",
    "Basic aggregation methods in SQL provide essential functionalities for summarizing and analyzing data sets. These methods are pivotal for performing calculations across a range of data points within a single query.<br><br>\n",
    "**Core Basic Aggregation Functions:**\n",
    "- **COUNT():** Counts the number of items in a group.\n",
    "- **SUM():** Adds together all values in a group.\n",
    "- **AVG():** Calculates the average of values in a group.\n",
    "- **MAX():** Identifies the maximum value in a group.\n",
    "- **MIN():** Identifies the minimum value in a group.\n",
    "\n",
    "**EXAMPLE**<br>\n",
    "To calculate total sales, average sale amount, and identify the highest and lowest sale amounts from a sales table:"
   ]
  },
  {
   "cell_type": "code",
   "execution_count": null,
   "metadata": {
    "vscode": {
     "languageId": "sql"
    }
   },
   "outputs": [],
   "source": [
    "SELECT\n",
    "    COUNT(*) AS total_sales,\n",
    "    SUM(amount) AS total_revenue,\n",
    "    AVG(amount) AS average_sale_amount,\n",
    "    MAX(amount) AS highest_sale,\n",
    "    MIN(amount) AS lowest_sale\n",
    "FROM\n",
    "    sales;"
   ]
  },
  {
   "cell_type": "markdown",
   "metadata": {},
   "source": [
    "### **ADVANCED AGGREGATION METHODS** <br>\n",
    "Advanced aggregation methods in SQL extend beyond basic functions like SUM() and COUNT(), enabling more complex data summarization. These methods are essential for detailed analytical tasks and reporting.<br><br>\n",
    "**Key Advanced Aggregation Functions:**\n",
    "- **GROUP_CONCAT():** In MySQL, concatenates values from a group into a single string with various options for separators.\n",
    "- **STRING_AGG():** In SQL Server and PostgreSQL, aggregates string values from a group into a single concatenated string.\n",
    "- **ARRAY_AGG():** In PostgreSQL, aggregates values into an array.\n",
    "- **JSON_AGG():** Aggregates record values as JSON objects.\n",
    "- **LISTAGG():** In Oracle, aggregates values from a group into a single string with custom separators.\n",
    "\n",
    "**EXAMPLE**<br>\n",
    "Given a table customer_interests with columns customer_id and interest, create a summary of interests per customer as a single string."
   ]
  },
  {
   "cell_type": "code",
   "execution_count": null,
   "metadata": {
    "vscode": {
     "languageId": "sql"
    }
   },
   "outputs": [],
   "source": [
    "SELECT\n",
    "    customer_id,\n",
    "    STRING_AGG (interest, ', ') AS interests\n",
    "FROM\n",
    "    customer_interests\n",
    "GROUP BY\n",
    "    customer_id;"
   ]
  },
  {
   "cell_type": "markdown",
   "metadata": {},
   "source": [
    "### **GROUP BY**<br>\n",
    "*Used to aggregate rows that have the same values in specified columns into summary rows. It precedes the calculation of aggregate functions (e.g., SUM(), AVG()).*<br>\n",
    "\n",
    "**EXAMPLE**<br>\n",
    "Aggregate sales by region."
   ]
  },
  {
   "cell_type": "code",
   "execution_count": null,
   "metadata": {
    "vscode": {
     "languageId": "sql"
    }
   },
   "outputs": [],
   "source": [
    "SELECT\n",
    "    sales_region,\n",
    "    SUM(amount) AS total_sales\n",
    "FROM\n",
    "    sales_data\n",
    "GROUP BY\n",
    "    sales_region;"
   ]
  },
  {
   "cell_type": "markdown",
   "metadata": {},
   "source": [
    "### **HAVING**<br>\n",
    "*Applies a filter to groups created by GROUP BY, allowing you to specify conditions for the aggregated results. It is used after GROUP BY to filter group results based on an aggregate function.*<br>\n",
    "\n",
    "**EXAMPLE**<br>\n",
    "Filter regions with sales above a threshold."
   ]
  },
  {
   "cell_type": "code",
   "execution_count": null,
   "metadata": {
    "vscode": {
     "languageId": "sql"
    }
   },
   "outputs": [],
   "source": [
    "SELECT\n",
    "    sales_region,\n",
    "    SUM(amount) AS total_sales\n",
    "FROM\n",
    "    sales_data\n",
    "GROUP BY\n",
    "    sales_region\n",
    "HAVING\n",
    "    SUM(amount) > 10000;"
   ]
  },
  {
   "cell_type": "markdown",
   "metadata": {},
   "source": [
    "GROUP BY aggregates data into groups, while HAVING filters those groups based on aggregate conditions, both playing pivotal roles in SQL for data summarization and analysis."
   ]
  },
  {
   "cell_type": "markdown",
   "metadata": {},
   "source": [
    "## **PIVOT AND UNPIVOT OPERATIONS** <br>"
   ]
  },
  {
   "cell_type": "markdown",
   "metadata": {},
   "source": [
    "### **PIVOT**<br>\n",
    "*Converts unique values from one column into multiple columns, allowing for aggregation of another column's values. This operation is useful for transforming row-based data into a more readable, column-based format for analysis.*<br>\n",
    "\n",
    "**EXAMPLE**<br>\n",
    "Sales data aggregation by year."
   ]
  },
  {
   "cell_type": "code",
   "execution_count": null,
   "metadata": {
    "vscode": {
     "languageId": "sql"
    }
   },
   "outputs": [],
   "source": [
    "SELECT product, '2018', '2019', '2020'\n",
    "FROM sales_data\n",
    "PIVOT(\n",
    "  SUM(total_sales)\n",
    "  FOR year IN ('2018', '2019', '2020')\n",
    ") AS PivotTable;"
   ]
  },
  {
   "cell_type": "markdown",
   "metadata": {},
   "source": [
    "### **UNPIVOT**<br>\n",
    "*Transforms columns into rows, essentially the inverse of PIVOT. This is particularly useful for normalizing data that was previously pivoted or inherently columnar, making it more suitable for row-oriented processing.*<br>\n",
    "\n",
    "**EXAMPLE**<br>\n",
    "Normalizing yearly sales data."
   ]
  },
  {
   "cell_type": "code",
   "execution_count": null,
   "metadata": {
    "vscode": {
     "languageId": "sql"
    }
   },
   "outputs": [],
   "source": [
    "SELECT product, year, total_sales\n",
    "FROM yearly_sales\n",
    "UNPIVOT(\n",
    "  total_sales FOR year IN ('2018', '2019', '2020')\n",
    ") AS UnpivotTable;"
   ]
  },
  {
   "cell_type": "markdown",
   "metadata": {},
   "source": [
    "## **PERFORMANCE OPTIMIZATION AND INDEXING** <br>"
   ]
  },
  {
   "cell_type": "markdown",
   "metadata": {},
   "source": [
    "*Performance optimization and indexing are crucial for enhancing the efficiency of SQL queries, especially when dealing with large datasets. These techniques reduce execution time and resource usage, ensuring fast data retrieval and processing.*<br><br>\n",
    "**Key Concepts:**\n",
    "- **Indexing:** Creating indexes on tables to speed up query processing. Common types include B-tree and hash indexes.\n",
    "- **Query Optimization:** Writing queries in a way that minimizes computation and I/O operations. Includes selecting only necessary columns, using joins efficiently, and filtering data early.\n",
    "- **Execution Plans:** Analyzing execution plans to understand how a query is executed and identifying bottlenecks.\n",
    "- **Partitioning:** Dividing tables into smaller, more manageable pieces, improving query performance by limiting the number of rows to scan.\n",
    "- **Caching:** Utilizing caching mechanisms to store frequently accessed data in memory, reducing the need to access the disk.\n",
    "\n",
    "**EXAMPLE**<br>\n",
    "To enhance the performance of a query that retrieves customer information based on transactions:\n",
    "1. **Index Customer IDs:** Create an index on the customer_id column in the transactions table to speed up searches.\n",
    "2. **Optimize the Query:** Select only the columns necessary for the report and use WHERE clauses to filter rows early in the query execution."
   ]
  },
  {
   "cell_type": "code",
   "execution_count": null,
   "metadata": {
    "vscode": {
     "languageId": "sql"
    }
   },
   "outputs": [],
   "source": [
    "CREATE INDEX idx_customer_id ON transactions (customer_id);\n",
    "\n",
    "SELECT\n",
    "    name,\n",
    "    email\n",
    "FROM\n",
    "    customers\n",
    "    JOIN transactions ON customers.customer_id = transactions.customer_id\n",
    "WHERE\n",
    "    transactions.purchase_date BETWEEN '2023-01-01' AND '2023-01-31';"
   ]
  }
 ],
 "metadata": {
  "language_info": {
   "name": "python"
  }
 },
 "nbformat": 4,
 "nbformat_minor": 2
}
